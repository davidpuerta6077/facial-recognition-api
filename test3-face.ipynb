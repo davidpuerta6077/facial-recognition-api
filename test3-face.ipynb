{
 "cells": [
  {
   "cell_type": "code",
   "execution_count": 6,
   "id": "e204ed1b-10b8-49a8-a622-4a9ed14fa9ce",
   "metadata": {},
   "outputs": [],
   "source": [
    "import cv2"
   ]
  },
  {
   "cell_type": "code",
   "execution_count": 7,
   "id": "e8a44926-a796-4503-a6e4-d84e977c6b72",
   "metadata": {},
   "outputs": [],
   "source": [
    "imagePath = 'Captura2.JPG'"
   ]
  },
  {
   "cell_type": "code",
   "execution_count": 8,
   "id": "3731739e-7915-4622-85be-c96cdfa421f0",
   "metadata": {},
   "outputs": [],
   "source": [
    "def detectar_rostro_en_imagen(imagePath):\n",
    "    img = cv2.imread(imagePath)\n",
    "    gray_image = cv2.cvtColor(img, cv2.COLOR_BGR2GRAY)\n",
    "\n",
    "    face_classifier = cv2.CascadeClassifier(\n",
    "        cv2.data.haarcascades + \"haarcascade_frontalface_default.xml\"\n",
    "    )\n",
    "\n",
    "    face = face_classifier.detectMultiScale(\n",
    "        gray_image, scaleFactor=1.1, minNeighbors=5, minSize=(40, 40)\n",
    "    )\n",
    "\n",
    "    if len(face) > 0:\n",
    "        return True\n",
    "    else:\n",
    "        return False"
   ]
  },
  {
   "cell_type": "code",
   "execution_count": 9,
   "id": "5a335112-661f-405d-a82d-394d4bf36020",
   "metadata": {},
   "outputs": [],
   "source": [
    "resultado = detectar_rostro_en_imagen(imagePath)"
   ]
  },
  {
   "cell_type": "code",
   "execution_count": 10,
   "id": "b877cac7-ec57-4226-a832-7e3ffca363ef",
   "metadata": {},
   "outputs": [
    {
     "name": "stdout",
     "output_type": "stream",
     "text": [
      "No se ha detectado un rostro en la imagen.\n"
     ]
    }
   ],
   "source": [
    "if resultado:\n",
    "    print(\"Se ha detectado un rostro en la imagen.\")\n",
    "else:\n",
    "    print(\"No se ha detectado un rostro en la imagen.\")"
   ]
  },
  {
   "cell_type": "code",
   "execution_count": null,
   "id": "5f3c2d4d-1479-4d8c-9239-a5c87e50ce54",
   "metadata": {},
   "outputs": [],
   "source": []
  }
 ],
 "metadata": {
  "kernelspec": {
   "display_name": "Python 3 (ipykernel)",
   "language": "python",
   "name": "python3"
  },
  "language_info": {
   "codemirror_mode": {
    "name": "ipython",
    "version": 3
   },
   "file_extension": ".py",
   "mimetype": "text/x-python",
   "name": "python",
   "nbconvert_exporter": "python",
   "pygments_lexer": "ipython3",
   "version": "3.8.16"
  }
 },
 "nbformat": 4,
 "nbformat_minor": 5
}
